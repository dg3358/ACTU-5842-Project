{
 "cells": [
  {
   "cell_type": "markdown",
   "metadata": {},
   "source": [
    "# Analyzing the impact of Political and Economic Sentiment on Healthcare and Tech stock market Performance in Election Year 2024"
   ]
  },
  {
   "cell_type": "markdown",
   "metadata": {},
   "source": [
    "## By: Dennis Goldenberg, Kevin Shao, and Samaa Nadkarni"
   ]
  },
  {
   "cell_type": "code",
   "execution_count": 3,
   "metadata": {},
   "outputs": [],
   "source": [
    "import numpy as np\n",
    "import pandas as pd\n",
    "import matplotlib as plt\n",
    "from datetime import datetime, date"
   ]
  },
  {
   "cell_type": "markdown",
   "metadata": {},
   "source": [
    "# Reading in the Data"
   ]
  },
  {
   "cell_type": "code",
   "execution_count": null,
   "metadata": {},
   "outputs": [
    {
     "data": {
      "text/html": [
       "<div>\n",
       "<style scoped>\n",
       "    .dataframe tbody tr th:only-of-type {\n",
       "        vertical-align: middle;\n",
       "    }\n",
       "\n",
       "    .dataframe tbody tr th {\n",
       "        vertical-align: top;\n",
       "    }\n",
       "\n",
       "    .dataframe thead th {\n",
       "        text-align: right;\n",
       "    }\n",
       "</style>\n",
       "<table border=\"1\" class=\"dataframe\">\n",
       "  <thead>\n",
       "    <tr style=\"text-align: right;\">\n",
       "      <th></th>\n",
       "      <th>DATE</th>\n",
       "      <th>DGS2</th>\n",
       "      <th>DGS10</th>\n",
       "    </tr>\n",
       "  </thead>\n",
       "  <tbody>\n",
       "    <tr>\n",
       "      <th>0</th>\n",
       "      <td>2024-01-05</td>\n",
       "      <td>4.40</td>\n",
       "      <td>4.05</td>\n",
       "    </tr>\n",
       "    <tr>\n",
       "      <th>1</th>\n",
       "      <td>2024-01-08</td>\n",
       "      <td>4.36</td>\n",
       "      <td>4.01</td>\n",
       "    </tr>\n",
       "    <tr>\n",
       "      <th>2</th>\n",
       "      <td>2024-01-09</td>\n",
       "      <td>4.36</td>\n",
       "      <td>4.02</td>\n",
       "    </tr>\n",
       "    <tr>\n",
       "      <th>3</th>\n",
       "      <td>2024-01-10</td>\n",
       "      <td>4.37</td>\n",
       "      <td>4.04</td>\n",
       "    </tr>\n",
       "    <tr>\n",
       "      <th>4</th>\n",
       "      <td>2024-01-11</td>\n",
       "      <td>4.26</td>\n",
       "      <td>3.98</td>\n",
       "    </tr>\n",
       "    <tr>\n",
       "      <th>...</th>\n",
       "      <td>...</td>\n",
       "      <td>...</td>\n",
       "      <td>...</td>\n",
       "    </tr>\n",
       "    <tr>\n",
       "      <th>214</th>\n",
       "      <td>2024-10-31</td>\n",
       "      <td>4.16</td>\n",
       "      <td>4.28</td>\n",
       "    </tr>\n",
       "    <tr>\n",
       "      <th>215</th>\n",
       "      <td>2024-11-01</td>\n",
       "      <td>4.21</td>\n",
       "      <td>4.37</td>\n",
       "    </tr>\n",
       "    <tr>\n",
       "      <th>216</th>\n",
       "      <td>2024-11-04</td>\n",
       "      <td>4.17</td>\n",
       "      <td>4.31</td>\n",
       "    </tr>\n",
       "    <tr>\n",
       "      <th>217</th>\n",
       "      <td>2024-11-05</td>\n",
       "      <td>4.19</td>\n",
       "      <td>4.26</td>\n",
       "    </tr>\n",
       "    <tr>\n",
       "      <th>218</th>\n",
       "      <td>2024-11-06</td>\n",
       "      <td>4.27</td>\n",
       "      <td>4.42</td>\n",
       "    </tr>\n",
       "  </tbody>\n",
       "</table>\n",
       "<p>219 rows × 3 columns</p>\n",
       "</div>"
      ],
      "text/plain": [
       "           DATE  DGS2 DGS10\n",
       "0    2024-01-05  4.40  4.05\n",
       "1    2024-01-08  4.36  4.01\n",
       "2    2024-01-09  4.36  4.02\n",
       "3    2024-01-10  4.37  4.04\n",
       "4    2024-01-11  4.26  3.98\n",
       "..          ...   ...   ...\n",
       "214  2024-10-31  4.16  4.28\n",
       "215  2024-11-01  4.21  4.37\n",
       "216  2024-11-04  4.17  4.31\n",
       "217  2024-11-05  4.19  4.26\n",
       "218  2024-11-06  4.27  4.42\n",
       "\n",
       "[219 rows x 3 columns]"
      ]
     },
     "execution_count": 14,
     "metadata": {},
     "output_type": "execute_result"
    }
   ],
   "source": [
    "#trump's odds\n",
    "trump_odds = pd.read_csv(\"data/Trump_implied_prob_victory_odds.csv\")\n",
    "trump_odds[\"Date (UTC)\"] = trump_odds[\"Date (UTC)\"].apply(lambda x: datetime.strptime(x,\n",
    "                                                          '%m-%d-%Y 00:00').date())\n",
    "trump_odds.drop(columns = \"Timestamp (UTC)\", inplace = True)\n",
    "\n",
    "#t-bills 2 Year\n",
    "tbills_2Y = pd.read_csv(\"data/Tbills_2Y_mkt_yield.csv\")\n",
    "tbills_2Y['DATE'] = tbills_2Y['DATE'].apply(lambda x: datetime.strptime(x, '%Y-%m-%d').date())\n",
    "tbills_2Y\n",
    "\n",
    "#t-bills 10 Year\n",
    "tbills_10Y = pd.read_csv(\"data/Tbills_10Y_mkt_yield.csv\")\n",
    "tbills_10Y['DATE'] = tbills_10Y['DATE'].apply(lambda x: datetime.strptime(x, '%Y-%m-%d').date())\n",
    "tbills_10Y\n",
    "\n",
    "#Other Project Data\n",
    "other_data = pd.read_csv(\"data/Project Data V1.csv\")\n",
    "other_data[\"date\"] = other_data[\"date\"].apply(lambda x: datetime.strptime(x, '%Y-%m-%d').date())\n",
    "\n",
    "#Continue merging procedure\n",
    "pd.merge(left = tbills_2Y, right = tbills_10Y, on = 'DATE')"
   ]
  }
 ],
 "metadata": {
  "kernelspec": {
   "display_name": "ACTU5842env",
   "language": "python",
   "name": "python3"
  },
  "language_info": {
   "codemirror_mode": {
    "name": "ipython",
    "version": 3
   },
   "file_extension": ".py",
   "mimetype": "text/x-python",
   "name": "python",
   "nbconvert_exporter": "python",
   "pygments_lexer": "ipython3",
   "version": "3.12.4"
  }
 },
 "nbformat": 4,
 "nbformat_minor": 2
}
