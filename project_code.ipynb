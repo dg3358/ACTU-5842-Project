{
 "cells": [
  {
   "cell_type": "markdown",
   "metadata": {},
   "source": [
    "# Analyzing the impact of Political and Economic Sentiment on Healthcare and Tech stock market Performance in Election Year 2024"
   ]
  },
  {
   "cell_type": "markdown",
   "metadata": {},
   "source": [
    "## By: Dennis Goldenberg, Kevin Shao, and Samaa Nadkarni"
   ]
  },
  {
   "cell_type": "code",
   "execution_count": 57,
   "metadata": {},
   "outputs": [],
   "source": [
    "import numpy as np\n",
    "import pandas as pd\n",
    "import scipy as sc\n",
    "from statsmodels.tsa.stattools import adfuller, ccf\n",
    "import matplotlib.pyplot as plt\n",
    "from datetime import datetime, date"
   ]
  },
  {
   "cell_type": "markdown",
   "metadata": {},
   "source": [
    "# Reading in the Data"
   ]
  },
  {
   "cell_type": "code",
   "execution_count": 2,
   "metadata": {},
   "outputs": [],
   "source": [
    "#trump's odds\n",
    "trump_odds = pd.read_csv(\"data/Trump_implied_prob_victory_odds.csv\")\n",
    "trump_odds[\"DATE\"] = trump_odds[\"Date (UTC)\"].apply(lambda x: datetime.strptime(x,\n",
    "                                                          '%m-%d-%Y 00:00').date())\n",
    "trump_odds.drop(columns = [\"Date (UTC)\",\"Timestamp (UTC)\"], inplace = True)\n",
    "trump_odds.rename({\"Price\": \"trump_odds\"}, axis = 1,inplace = True)\n",
    "\n",
    "#t-bills 2 Year\n",
    "tbills_2Y = pd.read_csv(\"data/Tbills_2Y_mkt_yield.csv\")\n",
    "tbills_2Y['DATE'] = tbills_2Y['DATE'].apply(lambda x: datetime.strptime(x, '%Y-%m-%d').date())\n",
    "#tbills_2Y['DGS2'] = tbills_2Y['DGS2'].astype(float)\n",
    "\n",
    "#t-bills 10 Year\n",
    "tbills_10Y = pd.read_csv(\"data/Tbills_10Y_mkt_yield.csv\")\n",
    "tbills_10Y['DATE'] = tbills_10Y['DATE'].apply(lambda x: datetime.strptime(x, '%Y-%m-%d').date())\n",
    "#tbills_10Y['DGS10'] = tbills_2Y['DGS10'].astype(float)\n",
    "\n",
    "#Other Project Data\n",
    "other_data = pd.read_csv(\"data/Project Data V1.csv\")\n",
    "other_data[\"DATE\"] = other_data[\"date\"].apply(lambda x: datetime.strptime(x, '%Y-%m-%d').date())\n",
    "other_data.drop(columns = ['date', 'Gold_Price', 'Oil_Price','Gold_Volume',\n",
    "                           'Oil_Volume'], inplace = True)\n",
    "\n",
    "#Continue merging procedure\n",
    "result_Frame = pd.merge(left = pd.merge(left = pd.merge(left = tbills_2Y, \n",
    "                                         right = tbills_10Y, \n",
    "                                         on = 'DATE'),\n",
    "                right = trump_odds,\n",
    "                on = 'DATE'),\n",
    "         right = other_data,\n",
    "         on = 'DATE')"
   ]
  },
  {
   "cell_type": "code",
   "execution_count": 3,
   "metadata": {},
   "outputs": [],
   "source": [
    "columns = np.append(result_Frame.columns.values[-9], \n",
    "          np.append(result_Frame.columns.values[-5:-3],\n",
    "          np.append(result_Frame.columns.values[-8:-5],\n",
    "                    result_Frame.columns.values[-3:])))\n",
    "raw_data = result_Frame.copy()[columns]"
   ]
  },
  {
   "cell_type": "markdown",
   "metadata": {},
   "source": [
    "## Linearly interpolating to fill in missing gaps on market yield Time Series"
   ]
  },
  {
   "cell_type": "code",
   "execution_count": 99,
   "metadata": {},
   "outputs": [],
   "source": [
    "def interp(dates, array_vals):\n",
    "    ret_vec = np.empty(shape = (len(array_vals)))\n",
    "    for i in range(len(array_vals)):\n",
    "        if array_vals[i] == '.' or ~(array_vals[i] > 0):\n",
    "            if i == 0:\n",
    "                delta_0 = (dates[i + 1] - dates[i]).days\n",
    "                delta_1 = (dates[i + 2] - dates[i + 1]).days\n",
    "                ret_vec[i] = float(array_vals[i + 1]) - (delta_0/delta_1)(float(array_vals[i + 2]) - float(array_vals[i + 1]))\n",
    "            elif i == len(array_vals) - 1:\n",
    "                delta_0 = (dates[i] - dates[i - 1]).days\n",
    "                delta_1 = (dates[i - 1] - dates[i - 2]).days\n",
    "                ret_vec[i] = float(array_vals[i - 1]) + (delta_0/delta_1)(float(array_vals[i - 1]) - float(array_vals[i - 2]))\n",
    "            else:\n",
    "                delta_0 = (dates[i] - dates[i - 1]).days\n",
    "                delta_1 = (dates[i + 1] - dates[i - 1]).days\n",
    "                ret_vec[i] = (delta_0/delta_1)*float(array_vals[i - 1]) + (1 - delta_0/delta_1)*float(array_vals[i + 1])\n",
    "        else:\n",
    "            ret_vec[i] = array_vals[i]\n",
    "    return ret_vec.astype(float)"
   ]
  },
  {
   "cell_type": "code",
   "execution_count": 100,
   "metadata": {},
   "outputs": [],
   "source": [
    "raw_data['DGS2'] = interp(raw_data['DATE'], raw_data['DGS2'])\n",
    "raw_data['DGS10'] = interp(raw_data['DATE'], raw_data['DGS10'])\n",
    "raw_data['BEIR'] = interp(raw_data['DATE'], raw_data['BEIR'])"
   ]
  },
  {
   "cell_type": "code",
   "execution_count": 104,
   "metadata": {},
   "outputs": [
    {
     "data": {
      "text/html": [
       "<div>\n",
       "<style scoped>\n",
       "    .dataframe tbody tr th:only-of-type {\n",
       "        vertical-align: middle;\n",
       "    }\n",
       "\n",
       "    .dataframe tbody tr th {\n",
       "        vertical-align: top;\n",
       "    }\n",
       "\n",
       "    .dataframe thead th {\n",
       "        text-align: right;\n",
       "    }\n",
       "</style>\n",
       "<table border=\"1\" class=\"dataframe\">\n",
       "  <thead>\n",
       "    <tr style=\"text-align: right;\">\n",
       "      <th></th>\n",
       "      <th>NASDAQ 100 Tech Index</th>\n",
       "      <th>S&amp;P Healthcare Index</th>\n",
       "      <th>DGS2</th>\n",
       "      <th>DGS10</th>\n",
       "      <th>trump_odds</th>\n",
       "      <th>Dollar_Index</th>\n",
       "      <th>BEIR</th>\n",
       "      <th>VIX index</th>\n",
       "    </tr>\n",
       "  </thead>\n",
       "  <tbody>\n",
       "    <tr>\n",
       "      <th>NASDAQ 100 Tech Index</th>\n",
       "      <td>150692.355611</td>\n",
       "      <td>6015.810965</td>\n",
       "      <td>18.138936</td>\n",
       "      <td>13.686925</td>\n",
       "      <td>13.345162</td>\n",
       "      <td>107.874882</td>\n",
       "      <td>4.993355</td>\n",
       "      <td>-440.367200</td>\n",
       "    </tr>\n",
       "    <tr>\n",
       "      <th>S&amp;P Healthcare Index</th>\n",
       "      <td>6015.810965</td>\n",
       "      <td>3306.457038</td>\n",
       "      <td>-18.525852</td>\n",
       "      <td>-10.687684</td>\n",
       "      <td>0.625182</td>\n",
       "      <td>-57.739882</td>\n",
       "      <td>-3.713991</td>\n",
       "      <td>80.103698</td>\n",
       "    </tr>\n",
       "    <tr>\n",
       "      <th>DGS2</th>\n",
       "      <td>18.138936</td>\n",
       "      <td>-18.525852</td>\n",
       "      <td>0.169993</td>\n",
       "      <td>0.097405</td>\n",
       "      <td>-0.000854</td>\n",
       "      <td>0.525705</td>\n",
       "      <td>0.029407</td>\n",
       "      <td>-0.773109</td>\n",
       "    </tr>\n",
       "    <tr>\n",
       "      <th>DGS10</th>\n",
       "      <td>13.686925</td>\n",
       "      <td>-10.687684</td>\n",
       "      <td>0.097405</td>\n",
       "      <td>0.065899</td>\n",
       "      <td>0.000494</td>\n",
       "      <td>0.340163</td>\n",
       "      <td>0.021187</td>\n",
       "      <td>-0.319980</td>\n",
       "    </tr>\n",
       "    <tr>\n",
       "      <th>trump_odds</th>\n",
       "      <td>13.345162</td>\n",
       "      <td>0.625182</td>\n",
       "      <td>-0.000854</td>\n",
       "      <td>0.000494</td>\n",
       "      <td>0.003536</td>\n",
       "      <td>0.015669</td>\n",
       "      <td>0.000079</td>\n",
       "      <td>0.002571</td>\n",
       "    </tr>\n",
       "    <tr>\n",
       "      <th>Dollar_Index</th>\n",
       "      <td>107.874882</td>\n",
       "      <td>-57.739882</td>\n",
       "      <td>0.525705</td>\n",
       "      <td>0.340163</td>\n",
       "      <td>0.015669</td>\n",
       "      <td>2.155076</td>\n",
       "      <td>0.100659</td>\n",
       "      <td>-1.609284</td>\n",
       "    </tr>\n",
       "    <tr>\n",
       "      <th>BEIR</th>\n",
       "      <td>4.993355</td>\n",
       "      <td>-3.713991</td>\n",
       "      <td>0.029407</td>\n",
       "      <td>0.021187</td>\n",
       "      <td>0.000079</td>\n",
       "      <td>0.100659</td>\n",
       "      <td>0.008840</td>\n",
       "      <td>-0.108243</td>\n",
       "    </tr>\n",
       "    <tr>\n",
       "      <th>VIX index</th>\n",
       "      <td>-440.367200</td>\n",
       "      <td>80.103698</td>\n",
       "      <td>-0.773109</td>\n",
       "      <td>-0.319980</td>\n",
       "      <td>0.002571</td>\n",
       "      <td>-1.609284</td>\n",
       "      <td>-0.108243</td>\n",
       "      <td>11.992258</td>\n",
       "    </tr>\n",
       "  </tbody>\n",
       "</table>\n",
       "</div>"
      ],
      "text/plain": [
       "                       NASDAQ 100 Tech Index  S&P Healthcare Index       DGS2  \\\n",
       "NASDAQ 100 Tech Index          150692.355611           6015.810965  18.138936   \n",
       "S&P Healthcare Index             6015.810965           3306.457038 -18.525852   \n",
       "DGS2                               18.138936            -18.525852   0.169993   \n",
       "DGS10                              13.686925            -10.687684   0.097405   \n",
       "trump_odds                         13.345162              0.625182  -0.000854   \n",
       "Dollar_Index                      107.874882            -57.739882   0.525705   \n",
       "BEIR                                4.993355             -3.713991   0.029407   \n",
       "VIX index                        -440.367200             80.103698  -0.773109   \n",
       "\n",
       "                           DGS10  trump_odds  Dollar_Index      BEIR  \\\n",
       "NASDAQ 100 Tech Index  13.686925   13.345162    107.874882  4.993355   \n",
       "S&P Healthcare Index  -10.687684    0.625182    -57.739882 -3.713991   \n",
       "DGS2                    0.097405   -0.000854      0.525705  0.029407   \n",
       "DGS10                   0.065899    0.000494      0.340163  0.021187   \n",
       "trump_odds              0.000494    0.003536      0.015669  0.000079   \n",
       "Dollar_Index            0.340163    0.015669      2.155076  0.100659   \n",
       "BEIR                    0.021187    0.000079      0.100659  0.008840   \n",
       "VIX index              -0.319980    0.002571     -1.609284 -0.108243   \n",
       "\n",
       "                        VIX index  \n",
       "NASDAQ 100 Tech Index -440.367200  \n",
       "S&P Healthcare Index    80.103698  \n",
       "DGS2                    -0.773109  \n",
       "DGS10                   -0.319980  \n",
       "trump_odds               0.002571  \n",
       "Dollar_Index            -1.609284  \n",
       "BEIR                    -0.108243  \n",
       "VIX index               11.992258  "
      ]
     },
     "execution_count": 104,
     "metadata": {},
     "output_type": "execute_result"
    }
   ],
   "source": [
    "raw_data[raw_data.columns.values[1:]].cov()"
   ]
  },
  {
   "cell_type": "code",
   "execution_count": 8,
   "metadata": {},
   "outputs": [
    {
     "data": {
      "text/html": [
       "<div>\n",
       "<style scoped>\n",
       "    .dataframe tbody tr th:only-of-type {\n",
       "        vertical-align: middle;\n",
       "    }\n",
       "\n",
       "    .dataframe tbody tr th {\n",
       "        vertical-align: top;\n",
       "    }\n",
       "\n",
       "    .dataframe thead th {\n",
       "        text-align: right;\n",
       "    }\n",
       "</style>\n",
       "<table border=\"1\" class=\"dataframe\">\n",
       "  <thead>\n",
       "    <tr style=\"text-align: right;\">\n",
       "      <th></th>\n",
       "      <th>NASDAQ 100 Tech Index</th>\n",
       "      <th>S&amp;P Healthcare Index</th>\n",
       "      <th>DGS2</th>\n",
       "      <th>DGS10</th>\n",
       "      <th>trump_odds</th>\n",
       "      <th>Dollar_Index</th>\n",
       "      <th>BEIR</th>\n",
       "      <th>VIX index</th>\n",
       "    </tr>\n",
       "  </thead>\n",
       "  <tbody>\n",
       "    <tr>\n",
       "      <th>NASDAQ 100 Tech Index</th>\n",
       "      <td>1.000000</td>\n",
       "      <td>0.269505</td>\n",
       "      <td>0.113331</td>\n",
       "      <td>0.137348</td>\n",
       "      <td>0.578086</td>\n",
       "      <td>0.189297</td>\n",
       "      <td>0.133364</td>\n",
       "      <td>-0.327581</td>\n",
       "    </tr>\n",
       "    <tr>\n",
       "      <th>S&amp;P Healthcare Index</th>\n",
       "      <td>0.269505</td>\n",
       "      <td>1.000000</td>\n",
       "      <td>-0.781413</td>\n",
       "      <td>-0.724043</td>\n",
       "      <td>0.182827</td>\n",
       "      <td>-0.684011</td>\n",
       "      <td>-0.696095</td>\n",
       "      <td>0.402273</td>\n",
       "    </tr>\n",
       "    <tr>\n",
       "      <th>DGS2</th>\n",
       "      <td>0.113331</td>\n",
       "      <td>-0.781413</td>\n",
       "      <td>1.000000</td>\n",
       "      <td>0.920299</td>\n",
       "      <td>-0.034817</td>\n",
       "      <td>0.868550</td>\n",
       "      <td>0.764104</td>\n",
       "      <td>-0.541470</td>\n",
       "    </tr>\n",
       "    <tr>\n",
       "      <th>DGS10</th>\n",
       "      <td>0.137348</td>\n",
       "      <td>-0.724043</td>\n",
       "      <td>0.920299</td>\n",
       "      <td>1.000000</td>\n",
       "      <td>0.032334</td>\n",
       "      <td>0.902646</td>\n",
       "      <td>0.880081</td>\n",
       "      <td>-0.359944</td>\n",
       "    </tr>\n",
       "    <tr>\n",
       "      <th>trump_odds</th>\n",
       "      <td>0.578086</td>\n",
       "      <td>0.182827</td>\n",
       "      <td>-0.034817</td>\n",
       "      <td>0.032334</td>\n",
       "      <td>1.000000</td>\n",
       "      <td>0.179487</td>\n",
       "      <td>0.013731</td>\n",
       "      <td>0.012486</td>\n",
       "    </tr>\n",
       "    <tr>\n",
       "      <th>Dollar_Index</th>\n",
       "      <td>0.189297</td>\n",
       "      <td>-0.684011</td>\n",
       "      <td>0.868550</td>\n",
       "      <td>0.902646</td>\n",
       "      <td>0.179487</td>\n",
       "      <td>1.000000</td>\n",
       "      <td>0.730863</td>\n",
       "      <td>-0.316556</td>\n",
       "    </tr>\n",
       "    <tr>\n",
       "      <th>BEIR</th>\n",
       "      <td>0.133364</td>\n",
       "      <td>-0.696095</td>\n",
       "      <td>0.764104</td>\n",
       "      <td>0.880081</td>\n",
       "      <td>0.013731</td>\n",
       "      <td>0.730863</td>\n",
       "      <td>1.000000</td>\n",
       "      <td>-0.336911</td>\n",
       "    </tr>\n",
       "    <tr>\n",
       "      <th>VIX index</th>\n",
       "      <td>-0.327581</td>\n",
       "      <td>0.402273</td>\n",
       "      <td>-0.541470</td>\n",
       "      <td>-0.359944</td>\n",
       "      <td>0.012486</td>\n",
       "      <td>-0.316556</td>\n",
       "      <td>-0.336911</td>\n",
       "      <td>1.000000</td>\n",
       "    </tr>\n",
       "  </tbody>\n",
       "</table>\n",
       "</div>"
      ],
      "text/plain": [
       "                       NASDAQ 100 Tech Index  S&P Healthcare Index      DGS2  \\\n",
       "NASDAQ 100 Tech Index               1.000000              0.269505  0.113331   \n",
       "S&P Healthcare Index                0.269505              1.000000 -0.781413   \n",
       "DGS2                                0.113331             -0.781413  1.000000   \n",
       "DGS10                               0.137348             -0.724043  0.920299   \n",
       "trump_odds                          0.578086              0.182827 -0.034817   \n",
       "Dollar_Index                        0.189297             -0.684011  0.868550   \n",
       "BEIR                                0.133364             -0.696095  0.764104   \n",
       "VIX index                          -0.327581              0.402273 -0.541470   \n",
       "\n",
       "                          DGS10  trump_odds  Dollar_Index      BEIR  VIX index  \n",
       "NASDAQ 100 Tech Index  0.137348    0.578086      0.189297  0.133364  -0.327581  \n",
       "S&P Healthcare Index  -0.724043    0.182827     -0.684011 -0.696095   0.402273  \n",
       "DGS2                   0.920299   -0.034817      0.868550  0.764104  -0.541470  \n",
       "DGS10                  1.000000    0.032334      0.902646  0.880081  -0.359944  \n",
       "trump_odds             0.032334    1.000000      0.179487  0.013731   0.012486  \n",
       "Dollar_Index           0.902646    0.179487      1.000000  0.730863  -0.316556  \n",
       "BEIR                   0.880081    0.013731      0.730863  1.000000  -0.336911  \n",
       "VIX index             -0.359944    0.012486     -0.316556 -0.336911   1.000000  "
      ]
     },
     "execution_count": 8,
     "metadata": {},
     "output_type": "execute_result"
    }
   ],
   "source": [
    "raw_data[raw_data.columns.values[1:]].corr()\n",
    "#Dollar Index and BEIR closely correlated, likely will use BEIR, we will keep this in mind"
   ]
  },
  {
   "cell_type": "code",
   "execution_count": 9,
   "metadata": {},
   "outputs": [
    {
     "data": {
      "image/png": "[encoded data removed]",
      "text/plain": [
       "<Figure size 640x480 with 1 Axes>"
      ]
     },
     "metadata": {},
     "output_type": "display_data"
    }
   ],
   "source": [
    "plt.scatter(raw_data['trump_odds'], raw_data['NASDAQ 100 Tech Index'])\n",
    "plt.show()"
   ]
  },
  {
   "cell_type": "code",
   "execution_count": 10,
   "metadata": {},
   "outputs": [
    {
     "data": {
      "image/png": "[encoded data removed]",
      "text/plain": [
       "<Figure size 640x480 with 1 Axes>"
      ]
     },
     "metadata": {},
     "output_type": "display_data"
    }
   ],
   "source": [
    "plt.plot(raw_data['DATE'], (raw_data['Dollar_Index'] - np.mean(raw_data['Dollar_Index']))/np.std(raw_data['Dollar_Index']), color = 'red')\n",
    "plt.plot(raw_data['DATE'], (raw_data['BEIR'] - np.mean(raw_data['BEIR']))/np.std(raw_data['BEIR']), color = 'blue')\n",
    "plt.show()"
   ]
  },
  {
   "cell_type": "markdown",
   "metadata": {},
   "source": [
    "# Data Preprocessing"
   ]
  },
  {
   "cell_type": "markdown",
   "metadata": {},
   "source": [
    "## Examining Stationarity"
   ]
  },
  {
   "cell_type": "markdown",
   "metadata": {},
   "source": [
    "### Stationarity of Response"
   ]
  },
  {
   "cell_type": "code",
   "execution_count": 105,
   "metadata": {},
   "outputs": [
    {
     "data": {
      "image/png": "[encoded data removed]",
      "text/plain": [
       "<Figure size 640x480 with 1 Axes>"
      ]
     },
     "metadata": {},
     "output_type": "display_data"
    }
   ],
   "source": [
    "plt.plot(raw_data['DATE'], \n",
    "         (raw_data['NASDAQ 100 Tech Index'] - np.mean(raw_data['NASDAQ 100 Tech Index']))/np.std(raw_data['NASDAQ 100 Tech Index']),\n",
    "          color = 'red')\n",
    "plt.plot(raw_data['DATE'], \n",
    "         (raw_data['S&P Healthcare Index'] - np.mean(raw_data['S&P Healthcare Index']))/np.std(raw_data['S&P Healthcare Index']),\n",
    "          color = 'blue')\n",
    "plt.show()"
   ]
  },
  {
   "cell_type": "code",
   "execution_count": 106,
   "metadata": {},
   "outputs": [
    {
     "name": "stdout",
     "output_type": "stream",
     "text": [
      "ADF Statistic: -3.661804239548556\n",
      "p-value: 0.004683641110341482\n",
      "Critial Values:\n",
      "   1%, -3.46172743446274\n",
      "Critial Values:\n",
      "   5%, -2.8753374677799957\n",
      "Critial Values:\n",
      "   10%, -2.574124089081557\n"
     ]
    }
   ],
   "source": [
    "#Stationarity Analysis\n",
    "test_1 = adfuller(raw_data['NASDAQ 100 Tech Index'])\n",
    "print(f'ADF Statistic: {test_1[0]}')\n",
    "print(f'p-value: {test_1[1]}')\n",
    "for key, value in test_1[4].items():\n",
    "    print('Critial Values:')\n",
    "    print(f'   {key}, {value}')"
   ]
  },
  {
   "cell_type": "code",
   "execution_count": 107,
   "metadata": {},
   "outputs": [
    {
     "name": "stdout",
     "output_type": "stream",
     "text": [
      "ADF Statistic: -1.825068981875701\n",
      "p-value: 0.36808856903609166\n",
      "Critial Values:\n",
      "   1%, -3.46172743446274\n",
      "Critial Values:\n",
      "   5%, -2.8753374677799957\n",
      "Critial Values:\n",
      "   10%, -2.574124089081557\n"
     ]
    }
   ],
   "source": [
    "test_2 = adfuller(raw_data['S&P Healthcare Index'])\n",
    "print(f'ADF Statistic: {test_2[0]}')\n",
    "print(f'p-value: {test_2[1]}')\n",
    "for key, value in test_2[4].items():\n",
    "    print('Critial Values:')\n",
    "    print(f'   {key}, {value}')"
   ]
  },
  {
   "cell_type": "markdown",
   "metadata": {},
   "source": [
    "So, according to the ADF test, the S&P Healthcare index isn't stationary, but the NASDAQ 100 tech index is. I difference the S&P Healthcare Index series and than model again:"
   ]
  },
  {
   "cell_type": "code",
   "execution_count": 108,
   "metadata": {},
   "outputs": [
    {
     "name": "stdout",
     "output_type": "stream",
     "text": [
      "ADF Statistic: -14.494243130073329\n",
      "p-value: 6.077736548238598e-27\n",
      "Critial Values:\n",
      "   1%, -3.461878735881654\n",
      "Critial Values:\n",
      "   5%, -2.875403665910809\n",
      "Critial Values:\n",
      "   10%, -2.574159410430839\n"
     ]
    }
   ],
   "source": [
    "differenced_healthcare = raw_data['S&P Healthcare Index'][1:].values - raw_data['S&P Healthcare Index'][0:(len(raw_data['S&P Healthcare Index']) - 1)]\n",
    "test_3 = adfuller(differenced_healthcare)\n",
    "print(f'ADF Statistic: {test_3[0]}')\n",
    "print(f'p-value: {test_3[1]}')\n",
    "for key, value in test_3[4].items():\n",
    "    print('Critial Values:')\n",
    "    print(f'   {key}, {value}')"
   ]
  },
  {
   "cell_type": "code",
   "execution_count": 129,
   "metadata": {},
   "outputs": [
    {
     "name": "stdout",
     "output_type": "stream",
     "text": [
      "ADF Statistic: -15.04335026521793\n",
      "p-value: 9.522285814236921e-28\n",
      "Critial Values:\n",
      "   1%, -3.461878735881654\n",
      "Critial Values:\n",
      "   5%, -2.875403665910809\n",
      "Critial Values:\n",
      "   10%, -2.574159410430839\n"
     ]
    }
   ],
   "source": [
    "differenced_tech = raw_data['NASDAQ 100 Tech Index'][1:].values - raw_data['NASDAQ 100 Tech Index'][0:(len(raw_data['NASDAQ 100 Tech Index']) - 1)]\n",
    "test_4 = adfuller(differenced_tech)\n",
    "print(f'ADF Statistic: {test_4[0]}')\n",
    "print(f'p-value: {test_4[1]}')\n",
    "for key, value in test_4[4].items():\n",
    "    print('Critial Values:')\n",
    "    print(f'   {key}, {value}')"
   ]
  },
  {
   "cell_type": "markdown",
   "metadata": {},
   "source": [
    "### Stationarity of Covariates"
   ]
  },
  {
   "cell_type": "code",
   "execution_count": 152,
   "metadata": {},
   "outputs": [
    {
     "name": "stdout",
     "output_type": "stream",
     "text": [
      "ADF Statistic: -3.1416710698316326\n",
      "p-value: 0.02361913682441797\n",
      "Critial Values:\n",
      "   1%, -3.4633090972761744\n",
      "Critial Values:\n",
      "   5%, -2.876029332045744\n",
      "Critial Values:\n",
      "   10%, -2.5744932593252643\n"
     ]
    }
   ],
   "source": [
    "test_5 = adfuller(raw_data['trump_odds'])\n",
    "print(f'ADF Statistic: {test_5[0]}')\n",
    "print(f'p-value: {test_5[1]}')\n",
    "for key, value in test_5[4].items():\n",
    "    print('Critial Values:')\n",
    "    print(f'   {key}, {value}')"
   ]
  },
  {
   "cell_type": "code",
   "execution_count": 161,
   "metadata": {},
   "outputs": [
    {
     "name": "stdout",
     "output_type": "stream",
     "text": [
      "ADF Statistic: -5.35965280875008\n",
      "p-value: 4.1148228518411545e-06\n",
      "Critial Values:\n",
      "   1%, -3.4624988216864776\n",
      "Critial Values:\n",
      "   5%, -2.8756749365852587\n",
      "Critial Values:\n",
      "   10%, -2.5743041549627677\n"
     ]
    }
   ],
   "source": [
    "differenced_trump = raw_data['trump_odds'][1:].values - raw_data['trump_odds'][0:(len(raw_data['trump_odds']) - 1)].values\n",
    "test_6 = adfuller(differenced_trump)\n",
    "print(f'ADF Statistic: {test_6[0]}')\n",
    "print(f'p-value: {test_6[1]}')\n",
    "for key, value in test_6[4].items():\n",
    "    print('Critial Values:')\n",
    "    print(f'   {key}, {value}')"
   ]
  },
  {
   "cell_type": "code",
   "execution_count": 162,
   "metadata": {},
   "outputs": [
    {
     "name": "stdout",
     "output_type": "stream",
     "text": [
      "ADF Statistic: -1.871810865599115\n",
      "p-value: 0.3454361203435057\n",
      "Critial Values:\n",
      "   1%, -3.46172743446274\n",
      "Critial Values:\n",
      "   5%, -2.8753374677799957\n",
      "Critial Values:\n",
      "   10%, -2.574124089081557\n"
     ]
    }
   ],
   "source": [
    "test_7 = adfuller(raw_data['BEIR'])\n",
    "print(f'ADF Statistic: {test_7[0]}')\n",
    "print(f'p-value: {test_7[1]}')\n",
    "for key, value in test_7[4].items():\n",
    "    print('Critial Values:')\n",
    "    print(f'   {key}, {value}')"
   ]
  },
  {
   "cell_type": "code",
   "execution_count": 163,
   "metadata": {},
   "outputs": [
    {
     "name": "stdout",
     "output_type": "stream",
     "text": [
      "ADF Statistic: -13.383281914055713\n",
      "p-value: 4.929353634536555e-25\n",
      "Critial Values:\n",
      "   1%, -3.461878735881654\n",
      "Critial Values:\n",
      "   5%, -2.875403665910809\n",
      "Critial Values:\n",
      "   10%, -2.574159410430839\n"
     ]
    }
   ],
   "source": [
    "differenced_BEIR = raw_data['BEIR'][1:].values - raw_data['BEIR'][0:(len(raw_data['BEIR']) - 1)].values\n",
    "test_8 = adfuller(differenced_BEIR)\n",
    "print(f'ADF Statistic: {test_8[0]}')\n",
    "print(f'p-value: {test_8[1]}')\n",
    "for key, value in test_8[4].items():\n",
    "    print('Critial Values:')\n",
    "    print(f'   {key}, {value}')"
   ]
  },
  {
   "cell_type": "code",
   "execution_count": 165,
   "metadata": {},
   "outputs": [
    {
     "name": "stdout",
     "output_type": "stream",
     "text": [
      "ADF Statistic: -3.7812597527420104\n",
      "p-value: 0.0031049783628894294\n",
      "Critial Values:\n",
      "   1%, -3.46172743446274\n",
      "Critial Values:\n",
      "   5%, -2.8753374677799957\n",
      "Critial Values:\n",
      "   10%, -2.574124089081557\n"
     ]
    }
   ],
   "source": [
    "test_9 = adfuller(raw_data['VIX index'])\n",
    "print(f'ADF Statistic: {test_9[0]}')\n",
    "print(f'p-value: {test_9[1]}')\n",
    "for key, value in test_9[4].items():\n",
    "    print('Critial Values:')\n",
    "    print(f'   {key}, {value}')"
   ]
  },
  {
   "cell_type": "code",
   "execution_count": 166,
   "metadata": {},
   "outputs": [
    {
     "name": "stdout",
     "output_type": "stream",
     "text": [
      "ADF Statistic: -16.437891318333754\n",
      "p-value: 2.4435037086827278e-29\n",
      "Critial Values:\n",
      "   1%, -3.461878735881654\n",
      "Critial Values:\n",
      "   5%, -2.875403665910809\n",
      "Critial Values:\n",
      "   10%, -2.574159410430839\n"
     ]
    }
   ],
   "source": [
    "differenced_VIX = raw_data['VIX index'][1:].values - raw_data['VIX index'][0:(len(raw_data['VIX index']) - 1)].values\n",
    "test_10 = adfuller(differenced_VIX)\n",
    "print(f'ADF Statistic: {test_10[0]}')\n",
    "print(f'p-value: {test_10[1]}')\n",
    "for key, value in test_10[4].items():\n",
    "    print('Critial Values:')\n",
    "    print(f'   {key}, {value}')"
   ]
  },
  {
   "cell_type": "markdown",
   "metadata": {},
   "source": [
    "We do this differencing so that, when doing cross correlation analysis, we actually get real relationships, not relationships of variables with themselves. I difference all variables with a p value less than .05:"
   ]
  },
  {
   "cell_type": "code",
   "execution_count": 167,
   "metadata": {},
   "outputs": [
    {
     "data": {
      "text/html": [
       "<div>\n",
       "<style scoped>\n",
       "    .dataframe tbody tr th:only-of-type {\n",
       "        vertical-align: middle;\n",
       "    }\n",
       "\n",
       "    .dataframe tbody tr th {\n",
       "        vertical-align: top;\n",
       "    }\n",
       "\n",
       "    .dataframe thead th {\n",
       "        text-align: right;\n",
       "    }\n",
       "</style>\n",
       "<table border=\"1\" class=\"dataframe\">\n",
       "  <thead>\n",
       "    <tr style=\"text-align: right;\">\n",
       "      <th></th>\n",
       "      <th>DATE</th>\n",
       "      <th>S&amp;P Healthcare Index</th>\n",
       "      <th>NASDAQ 100 Tech Index</th>\n",
       "      <th>trump_odds</th>\n",
       "      <th>BEIR</th>\n",
       "      <th>VIX index</th>\n",
       "    </tr>\n",
       "  </thead>\n",
       "  <tbody>\n",
       "    <tr>\n",
       "      <th>0</th>\n",
       "      <td>2024-01-08</td>\n",
       "      <td>13.640015</td>\n",
       "      <td>9382.04</td>\n",
       "      <td>0.4750</td>\n",
       "      <td>0.00</td>\n",
       "      <td>13.080000</td>\n",
       "    </tr>\n",
       "    <tr>\n",
       "      <th>1</th>\n",
       "      <td>2024-01-09</td>\n",
       "      <td>0.670044</td>\n",
       "      <td>9431.27</td>\n",
       "      <td>0.4650</td>\n",
       "      <td>0.00</td>\n",
       "      <td>12.760000</td>\n",
       "    </tr>\n",
       "    <tr>\n",
       "      <th>2</th>\n",
       "      <td>2024-01-10</td>\n",
       "      <td>6.809937</td>\n",
       "      <td>9488.72</td>\n",
       "      <td>0.4550</td>\n",
       "      <td>0.00</td>\n",
       "      <td>12.690000</td>\n",
       "    </tr>\n",
       "    <tr>\n",
       "      <th>3</th>\n",
       "      <td>2024-01-11</td>\n",
       "      <td>-1.859985</td>\n",
       "      <td>9539.06</td>\n",
       "      <td>0.4650</td>\n",
       "      <td>0.00</td>\n",
       "      <td>12.440000</td>\n",
       "    </tr>\n",
       "    <tr>\n",
       "      <th>4</th>\n",
       "      <td>2024-01-12</td>\n",
       "      <td>-4.829956</td>\n",
       "      <td>9534.17</td>\n",
       "      <td>0.4750</td>\n",
       "      <td>0.05</td>\n",
       "      <td>12.700000</td>\n",
       "    </tr>\n",
       "    <tr>\n",
       "      <th>...</th>\n",
       "      <td>...</td>\n",
       "      <td>...</td>\n",
       "      <td>...</td>\n",
       "      <td>...</td>\n",
       "      <td>...</td>\n",
       "      <td>...</td>\n",
       "    </tr>\n",
       "    <tr>\n",
       "      <th>206</th>\n",
       "      <td>2024-10-31</td>\n",
       "      <td>-14.000000</td>\n",
       "      <td>10154.19</td>\n",
       "      <td>0.6475</td>\n",
       "      <td>-0.01</td>\n",
       "      <td>23.160000</td>\n",
       "    </tr>\n",
       "    <tr>\n",
       "      <th>207</th>\n",
       "      <td>2024-11-01</td>\n",
       "      <td>10.170044</td>\n",
       "      <td>10281.37</td>\n",
       "      <td>0.6325</td>\n",
       "      <td>0.00</td>\n",
       "      <td>21.879999</td>\n",
       "    </tr>\n",
       "    <tr>\n",
       "      <th>208</th>\n",
       "      <td>2024-11-04</td>\n",
       "      <td>-11.760010</td>\n",
       "      <td>10254.28</td>\n",
       "      <td>0.5635</td>\n",
       "      <td>-0.05</td>\n",
       "      <td>21.980000</td>\n",
       "    </tr>\n",
       "    <tr>\n",
       "      <th>209</th>\n",
       "      <td>2024-11-05</td>\n",
       "      <td>12.829956</td>\n",
       "      <td>10391.54</td>\n",
       "      <td>0.5855</td>\n",
       "      <td>-0.01</td>\n",
       "      <td>20.490000</td>\n",
       "    </tr>\n",
       "    <tr>\n",
       "      <th>210</th>\n",
       "      <td>2024-11-06</td>\n",
       "      <td>2.630005</td>\n",
       "      <td>10708.44</td>\n",
       "      <td>0.5800</td>\n",
       "      <td>0.11</td>\n",
       "      <td>16.270000</td>\n",
       "    </tr>\n",
       "  </tbody>\n",
       "</table>\n",
       "<p>211 rows × 6 columns</p>\n",
       "</div>"
      ],
      "text/plain": [
       "           DATE  S&P Healthcare Index  NASDAQ 100 Tech Index  trump_odds  \\\n",
       "0    2024-01-08             13.640015                9382.04      0.4750   \n",
       "1    2024-01-09              0.670044                9431.27      0.4650   \n",
       "2    2024-01-10              6.809937                9488.72      0.4550   \n",
       "3    2024-01-11             -1.859985                9539.06      0.4650   \n",
       "4    2024-01-12             -4.829956                9534.17      0.4750   \n",
       "..          ...                   ...                    ...         ...   \n",
       "206  2024-10-31            -14.000000               10154.19      0.6475   \n",
       "207  2024-11-01             10.170044               10281.37      0.6325   \n",
       "208  2024-11-04            -11.760010               10254.28      0.5635   \n",
       "209  2024-11-05             12.829956               10391.54      0.5855   \n",
       "210  2024-11-06              2.630005               10708.44      0.5800   \n",
       "\n",
       "     BEIR  VIX index  \n",
       "0    0.00  13.080000  \n",
       "1    0.00  12.760000  \n",
       "2    0.00  12.690000  \n",
       "3    0.00  12.440000  \n",
       "4    0.05  12.700000  \n",
       "..    ...        ...  \n",
       "206 -0.01  23.160000  \n",
       "207  0.00  21.879999  \n",
       "208 -0.05  21.980000  \n",
       "209 -0.01  20.490000  \n",
       "210  0.11  16.270000  \n",
       "\n",
       "[211 rows x 6 columns]"
      ]
     },
     "execution_count": 167,
     "metadata": {},
     "output_type": "execute_result"
    }
   ],
   "source": [
    "result_data = raw_data[['DATE', 'S&P Healthcare Index', 'NASDAQ 100 Tech Index',\n",
    "                        'trump_odds', 'BEIR', 'VIX index']][1:].copy()\n",
    "result_data.reset_index(inplace = True, drop = True)\n",
    "result_data['S&P Healthcare Index'] = differenced_healthcare\n",
    "#result_data['NASDAQ 100 Tech Index'] = differenced_tech\n",
    "#result_data['trump_odds'] = differenced_trump\n",
    "result_data['BEIR'] = differenced_BEIR\n",
    "#result_data['VIX index'] = difference_VIX\n",
    "result_data"
   ]
  },
  {
   "cell_type": "markdown",
   "metadata": {},
   "source": [
    "## Cross correlelograms"
   ]
  },
  {
   "cell_type": "code",
   "execution_count": 180,
   "metadata": {},
   "outputs": [
    {
     "data": {
      "image/png": "[encoded data removed]",
      "text/plain": [
       "<Figure size 640x480 with 1 Axes>"
      ]
     },
     "metadata": {},
     "output_type": "display_data"
    }
   ],
   "source": [
    "health_trump = ccf(result_data['S&P Healthcare Index'], result_data['trump_odds'], adjusted = False)\n",
    "plt.bar([i for i in range(1, 25)], health_trump[1:25])\n",
    "plt.show()"
   ]
  },
  {
   "cell_type": "code",
   "execution_count": 181,
   "metadata": {},
   "outputs": [
    {
     "data": {
      "image/png": "[encoded data removed]",
      "text/plain": [
       "<Figure size 640x480 with 1 Axes>"
      ]
     },
     "metadata": {},
     "output_type": "display_data"
    }
   ],
   "source": [
    "tech_trump = ccf(result_data['NASDAQ 100 Tech Index'], result_data['trump_odds'], adjusted = False)\n",
    "plt.bar([i for i in range(1, 25)], tech_trump[1:25])\n",
    "plt.show()"
   ]
  },
  {
   "cell_type": "code",
   "execution_count": 182,
   "metadata": {},
   "outputs": [
    {
     "data": {
      "image/png": "[encoded data removed]",
      "text/plain": [
       "<Figure size 640x480 with 1 Axes>"
      ]
     },
     "metadata": {},
     "output_type": "display_data"
    }
   ],
   "source": [
    "health_BEIR = ccf(result_data['S&P Healthcare Index'], result_data['BEIR'], adjusted = False)\n",
    "plt.bar([i for i in range(1, 25)], health_BEIR[1:25])\n",
    "plt.show()"
   ]
  },
  {
   "cell_type": "code",
   "execution_count": 184,
   "metadata": {},
   "outputs": [
    {
     "data": {
      "image/png": "[encoded data removed]",
      "text/plain": [
       "<Figure size 640x480 with 1 Axes>"
      ]
     },
     "metadata": {},
     "output_type": "display_data"
    }
   ],
   "source": [
    "tech_BEIR = ccf(result_data['NASDAQ 100 Tech Index'], result_data['BEIR'], adjusted = False)\n",
    "plt.bar([i for i in range(1, 25)], tech_BEIR[1:25])\n",
    "plt.show()"
   ]
  },
  {
   "cell_type": "code",
   "execution_count": 185,
   "metadata": {},
   "outputs": [
    {
     "data": {
      "image/png": "[encoded data removed]",
      "text/plain": [
       "<Figure size 640x480 with 1 Axes>"
      ]
     },
     "metadata": {},
     "output_type": "display_data"
    }
   ],
   "source": [
    "health_VIXIndex = ccf(result_data['S&P Healthcare Index'], result_data['VIX index'], adjusted = False)\n",
    "plt.bar([i for i in range(1, 25)], health_VIXIndex[1:25])\n",
    "plt.show()"
   ]
  },
  {
   "cell_type": "code",
   "execution_count": 186,
   "metadata": {},
   "outputs": [
    {
     "data": {
      "image/png": "[encoded data removed]",
      "text/plain": [
       "<Figure size 640x480 with 1 Axes>"
      ]
     },
     "metadata": {},
     "output_type": "display_data"
    }
   ],
   "source": [
    "tech_VIXIndex = ccf(result_data['NASDAQ 100 Tech Index'], result_data['VIX index'], adjusted = False)\n",
    "plt.bar([i for i in range(1, 25)], tech_VIXIndex[1:25])\n",
    "plt.show()"
   ]
  },
  {
   "cell_type": "code",
   "execution_count": null,
   "metadata": {},
   "outputs": [],
   "source": []
  }
 ],
 "metadata": {
  "kernelspec": {
   "display_name": "ACTU5842env",
   "language": "python",
   "name": "python3"
  },
  "language_info": {
   "codemirror_mode": {
    "name": "ipython",
    "version": 3
   },
   "file_extension": ".py",
   "mimetype": "text/x-python",
   "name": "python",
   "nbconvert_exporter": "python",
   "pygments_lexer": "ipython3",
   "version": "3.12.4"
  }
 },
 "nbformat": 4,
 "nbformat_minor": 2
}
